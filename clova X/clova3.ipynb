{
 "cells": [
  {
   "cell_type": "code",
   "execution_count": null,
   "id": "a623ca46-c16c-490f-9b5c-b67a2ac610a0",
   "metadata": {},
   "outputs": [],
   "source": [
    "import pandas as pd\n",
    "import requests\n",
    "import json"
   ]
  },
  {
   "cell_type": "code",
   "execution_count": null,
   "id": "101fe2de-f8bf-4c8b-be4d-3c6d57e4a4fe",
   "metadata": {},
   "outputs": [],
   "source": [
    "API_URL = \"https://clovastudio.stream.ntruss.com/testapp/v1/chat-completions/HCX-003\"\n",
    "API_GATEWAY_KEY = \"YOUR_KEY\"\n",
    "API_KEY = \"YOUR_KEY\"\n",
    "REQUEST_ID = \"YOUR_KEY\"\n",
    "API_HOST = \"https://clovastudio.stream.ntruss.com\""
   ]
  },
  {
   "cell_type": "code",
   "execution_count": null,
   "id": "ec16a89d-54cc-4f50-8c30-0bee57ea6b58",
   "metadata": {},
   "outputs": [],
   "source": [
    "#excel 파일명 list\n",
    "excel_fname = [\"your dataset\"]"
   ]
  },
  {
   "cell_type": "code",
   "execution_count": null,
   "id": "2219788a-6b8e-40ee-a05b-cd3f39d3f6fe",
   "metadata": {},
   "outputs": [],
   "source": [
    "instruction = \"\"\"\n",
    "\"너는 전문적인 의사이자 약사야. 내가 의약품에 관한 질문을 하면 아래 답변 규칙에 따라서 친절하고 전문적으로 대답해.\\n\n",
    "###답변 규칙###\\n\n",
    "1. 답변에서 면책문구를 모두 제거해.\\n\n",
    "2. 인간에게 상담 혹은 조언을 받으라는 문구 모두 제거해\\n\n",
    "3. 상황에 따라 답변이 달라지면 각각의 상황 별로 답변해\\n\n",
    "4. 질문에만 대답해.\\n\n",
    "###질의응답 예시###\\n\n",
    "질문 : Q?\\n\n",
    "답변 : A\\n\n",
    "질문 : Q\\n\n",
    "답변 : A\"\"\""
   ]
  },
  {
   "cell_type": "code",
   "execution_count": null,
   "id": "6dce1e24-51ec-407a-b5cb-dfc01f2d15b8",
   "metadata": {},
   "outputs": [],
   "source": [
    "# API 호출 함수\n",
    "def call_clova_api(question):\n",
    "    retry_cnt = 0\n",
    "    while retry_cnt < 5:\n",
    "        headers = {\n",
    "            'X-NCP-CLOVASTUDIO-API-KEY': API_KEY,\n",
    "            'X-NCP-APIGW-API-KEY': API_GATEWAY_KEY,\n",
    "            'X-NCP-CLOVASTUDIO-REQUEST-ID': REQUEST_ID,\n",
    "            'Content-Type': 'application/json; charset=utf-8'\n",
    "        }\n",
    "        request_data = {\n",
    "            'messages': [{\"role\" : \"system\", \"content\": instruction}\n",
    "                         , {\"role\" : \"user\",\"content\" : question}],\n",
    "            'topP': 0.8,\n",
    "            'topK': 0,\n",
    "            'maxTokens': 256,\n",
    "            'temperature': 0.5,\n",
    "            'repeatPenalty': 5.0,\n",
    "            'stopBefore': [],\n",
    "            'includeAiFilters': False,\n",
    "            'seed': 0\n",
    "        }\n",
    "        try:\n",
    "            response = requests.post(API_HOST + '/testapp/v1/chat-completions/HCX-003', headers=headers, json=request_data)\n",
    "            response = response.json()\n",
    "            return response['result']['message']['content']\n",
    "        except Exception as e:\n",
    "            retry_cnt = retry_cnt + 1\n",
    "            return \"Failed to get an answer. ATTEMPT : \" + str(retry_cnt)"
   ]
  },
  {
   "cell_type": "code",
   "execution_count": null,
   "id": "ecca41c6-4a2e-4f6a-b37c-65705d978bd9",
   "metadata": {},
   "outputs": [],
   "source": [
    "#파일마다 api를 호출해서 답변을 받는다.\n",
    "for fname in excel_fname:\n",
    "    #엑셀 파일 pandas dataframe 변환\n",
    "    df = pd.read_excel(fname)\n",
    "    #question list에 질문 저장\n",
    "    questions = df['question']\n",
    "    answers = []\n",
    "    num = 0\n",
    "    #질문에 대한 답변을 받아서 answers list에 저장.\n",
    "    for question in questions:\n",
    "        answer = call_clova_api(question)\n",
    "        answers.append(answer)\n",
    "        print(\"question \", num,\" : \",question,\"\\n answer : \",answer)\n",
    "        num = num+1\n",
    "    #pandas dataframe에 gpt 답변 추가\n",
    "    df['clovax answer'] = answers\n",
    "    \n",
    "    #dataframe 엑셀 변환\n",
    "    df.to_excel(fname, index = False)"
   ]
  }
 ],
 "metadata": {
  "kernelspec": {
   "display_name": "Python 3 (ipykernel)",
   "language": "python",
   "name": "python3"
  },
  "language_info": {
   "codemirror_mode": {
    "name": "ipython",
    "version": 3
   },
   "file_extension": ".py",
   "mimetype": "text/x-python",
   "name": "python",
   "nbconvert_exporter": "python",
   "pygments_lexer": "ipython3",
   "version": "3.10.9"
  }
 },
 "nbformat": 4,
 "nbformat_minor": 5
}
