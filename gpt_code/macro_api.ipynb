{
 "cells": [
  {
   "cell_type": "code",
   "execution_count": null,
   "id": "c82af9fb",
   "metadata": {},
   "outputs": [],
   "source": [
    "import openai\n",
    "import pandas as pd\n",
    "import time"
   ]
  },
  {
   "cell_type": "code",
   "execution_count": null,
   "id": "9c2660ce",
   "metadata": {},
   "outputs": [],
   "source": [
    "# OpenAI API 키를 설정합니다.\n",
    "openai.api_key = 'YOUR_KEY'"
   ]
  },
  {
   "cell_type": "code",
   "execution_count": null,
   "id": "e88d033b",
   "metadata": {},
   "outputs": [],
   "source": [
    "#excel 파일명 list\n",
    "excel_fname = []\n",
    "excel_fname = ['your dataset']"
   ]
  },
  {
   "cell_type": "code",
   "execution_count": null,
   "id": "2343edaa",
   "metadata": {},
   "outputs": [],
   "source": [
    "prompt = \"You are a knowledgeable pharmacist. Answer the questions about medications accurately. Do not use phrases like ' consult with a doctor or pharmacist.' Please answer in English.\""
   ]
  },
  {
   "cell_type": "code",
   "execution_count": null,
   "id": "bce7a482",
   "metadata": {},
   "outputs": [],
   "source": [
    "'''\n",
    "api_call : \n",
    "    요약        :   gpt api에 질문을 하는 함수\n",
    "    특이사항    :   Timeout이나 server overload 문제 발생시 에러처리해서 다음 질문에 대한 호출 진행.\n",
    "                    만약 에러 발생시 retry 횟수만큼 다시 질문 시도. 질문 시도 횟수는 retry_cnt로 확인\n",
    "    prompt      :   You are a knowledgeable pharmacist. \n",
    "                    Answer the questions about medications accurately. \n",
    "                    Do not use phrases like ' consult with a doctor or pharmacist.' \n",
    "                    Please respond in Korean.\n",
    "    매개변수    :   \n",
    "                    question : 질문\n",
    "                    num      : 몇번째 질문인지 확인하기위한 카운터\n",
    "                    retry    : 오류 발생시 재시도 횟수\n",
    "    반환값      :\n",
    "                    문자열과 실수(답변과 걸린 시간)\n",
    "                    정상적으로 response 받은 경우에는 답변과 걸린 시간을 반환\n",
    "                    비정상 종료시 \"error\" 문자열과 걸린 시간 반환\n",
    "'''\n",
    "\n",
    "\n",
    "def api_call(question,num,retry):\n",
    "    retry_cnt = 0\n",
    "    while retry_cnt < retry:\n",
    "        try:\n",
    "            start_time = time.time()  # API 호출 전 시간 기록\n",
    "            response = openai.ChatCompletion.create(\n",
    "                model=\"gpt-3.5-turbo\",  # 모델을 지정\n",
    "                messages=[              # 질문을 입력\n",
    "                    {\"role\": \"system\", \"content\": prompt},\n",
    "                    {\"role\": \"user\", \"content\": question}\n",
    "                ],  \n",
    "                max_tokens=300,  # 최대 토큰 수\n",
    "                                # 해당 토큰을 만나면 중지,\n",
    "                request_timeout = timeout\n",
    "            )\n",
    "            end_time = time.time()  # API 호출 후 시간 기록\n",
    "            time_taken = end_time - start_time  # 걸린 시간 계산\n",
    "            print(\"Q\",num,\": \"+ question + \" answered : \",time_taken)\n",
    "            return response.choices[0].message['content'], time_taken\n",
    "        #에외처리\n",
    "        except Exception as e:\n",
    "            end_time = time.time()  # API 호출 후 시간 기록\n",
    "            time_taken = end_time - start_time  # 걸린 시간 계산\n",
    "            print(f\"An error occured on attempt {retry_cnt + 1} : {e}\", time_taken)\n",
    "            retry_cnt = retry_cnt + 1\n",
    "            time.sleep(1)    #오류 발생시 1초 대기후 다시 질문\n",
    "    return \"Failed to get an answer\", time_taken"
   ]
  },
  {
   "cell_type": "code",
   "execution_count": null,
   "id": "9c7eb2eb",
   "metadata": {},
   "outputs": [],
   "source": [
    "#parameters\n",
    "#오류 발생시 재시도 횟수\n",
    "retry = 5\n",
    "#타임아웃 시간 설정\n",
    "timeout = 40"
   ]
  },
  {
   "cell_type": "code",
   "execution_count": null,
   "id": "941c7fbd",
   "metadata": {
    "scrolled": true
   },
   "outputs": [],
   "source": [
    "#파일마다 api를 호출해서 답변을 받는다.\n",
    "for fname in excel_fname:\n",
    "    #엑셀 파일 pandas dataframe 변환\n",
    "    df = pd.read_excel(fname)\n",
    "    #question list에 질문 저장\n",
    "    questions = df['crude_question']\n",
    "    answers = []\n",
    "    time_taken_list = []\n",
    "    num = 0\n",
    "    total_time = 0.0\n",
    "    #질문에 대한 답변을 받아서 answers list에 저장.\n",
    "    for question in questions:\n",
    "        answer, time_taken = api_call(question,num,retry)\n",
    "        answers.append(answer)\n",
    "        total_time = total_time + time_taken\n",
    "        time_taken_list.append(time_taken)\n",
    "        num = num+1\n",
    "    #pandas dataframe에 gpt 답변 추가\n",
    "    df['gpt-3.5-turbo answer'] = answers\n",
    "    df['time_taken'] = time_taken_list\n",
    "    df['total_time'] = total_time\n",
    "    #dataframe 엑셀 변환\n",
    "    df.to_excel(fname, index = False)"
   ]
  }
 ],
 "metadata": {
  "kernelspec": {
   "display_name": "Python 3 (ipykernel)",
   "language": "python",
   "name": "python3"
  },
  "language_info": {
   "codemirror_mode": {
    "name": "ipython",
    "version": 3
   },
   "file_extension": ".py",
   "mimetype": "text/x-python",
   "name": "python",
   "nbconvert_exporter": "python",
   "pygments_lexer": "ipython3",
   "version": "3.10.9"
  }
 },
 "nbformat": 4,
 "nbformat_minor": 5
}
