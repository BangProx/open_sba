{
 "cells": [
  {
   "cell_type": "code",
   "execution_count": null,
   "id": "e1036a56-34f1-4e5c-a940-247169913650",
   "metadata": {},
   "outputs": [],
   "source": [
    "from transformers import AutoModelForCausalLM, AutoTokenizer, pipeline\n",
    "import pandas as pd\n",
    "\n",
    "path = \"PATH_TO_YOUR_MODEL\""
   ]
  },
  {
   "cell_type": "code",
   "execution_count": null,
   "id": "a1f003f9-ccf9-45e4-bacd-ba1e82683c6f",
   "metadata": {},
   "outputs": [],
   "source": [
    "#excel 파일명 list\n",
    "excel_fname = ['dataset']"
   ]
  },
  {
   "cell_type": "code",
   "execution_count": null,
   "id": "c1908511-ea24-4034-b88f-f66fbd9969b9",
   "metadata": {},
   "outputs": [],
   "source": [
    "df = pd.read_excel(excel_fname[0])\n",
    "df.head(5)"
   ]
  },
  {
   "cell_type": "code",
   "execution_count": null,
   "id": "bd454ed0-898b-4a13-9468-461f6c1b0f76",
   "metadata": {},
   "outputs": [],
   "source": [
    "#Loading the Model\n",
    "model = AutoModelForCausalLM.from_pretrained(path,\n",
    "                                             device_map=\"auto\",\n",
    "                                             trust_remote_code=False,\n",
    "                                             revision=\"main\")\n",
    "\n",
    "tokenizer = AutoTokenizer.from_pretrained(path, use_fast=True)"
   ]
  },
  {
   "cell_type": "code",
   "execution_count": null,
   "id": "9f3441aa-d330-4e43-87b5-a535cdef0d9b",
   "metadata": {},
   "outputs": [],
   "source": [
    "instruction = \"\"\"\n",
    "You are a professional doctor and pharmacist. If I ask you a medical question, answer politely and professionally, following the answering rules below.\n",
    "\n",
    "###Response Rules###\n",
    "1. Answers must have a clear medical basis or be based on dur(drug utilization review) information.\n",
    "2. If the answer varies depending on the situation, answer according to each situation.\n",
    "3. If you are not sure of the answer or do not know, please answer that you do not know.\n",
    "4. Do not include answers with question-and-answer examples.\n",
    "\n",
    "###Question and answer example ###\n",
    "Question: Can Milta tablet be used on pregnant people?\n",
    "Answer: Milta Tablet is not classified as contraindicated in the DUR information. It can be used depending on the patient's condition and the clinician's judgment.\"\"\""
   ]
  },
  {
   "cell_type": "code",
   "execution_count": null,
   "id": "4c6168ca-4ca9-4b2d-8bd1-030d43e9dd48",
   "metadata": {},
   "outputs": [],
   "source": [
    "def prompt_template(question):\n",
    "    prompt=f'''[INST] <<SYS>>\n",
    "    {instruction}\n",
    "    <</SYS>>\n",
    "    {question}[/INST]\n",
    "    '''\n",
    "    return prompt"
   ]
  },
  {
   "cell_type": "code",
   "execution_count": null,
   "id": "ecc526c2-06fb-4a8e-9413-6b8e12d0b638",
   "metadata": {},
   "outputs": [],
   "source": [
    "pipe = pipeline(\n",
    "    \"text-generation\",\n",
    "    model=model,\n",
    "    tokenizer=tokenizer,\n",
    "    max_new_tokens=512,\n",
    "    do_sample=True,\n",
    "    temperature=0.5,\n",
    "    top_p=0.95,\n",
    "    top_k=40,\n",
    "    repetition_penalty=1.1\n",
    ")"
   ]
  },
  {
   "cell_type": "code",
   "execution_count": null,
   "id": "fd73e158-bb55-40e0-b185-5bb7c3fd30cd",
   "metadata": {},
   "outputs": [],
   "source": [
    "for fname in excel_fname:\n",
    "    #엑셀 파일 pandas dataframe 변환\n",
    "    df = pd.read_excel(fname)\n",
    "    #question list에 질문 저장\n",
    "    questions = df['crude_question']\n",
    "    answers = []\n",
    "    num = 0\n",
    "    #질문에 대한 답변을 받아서 answers list에 저장.\n",
    "    for question in questions:\n",
    "        answer = pipe(prompt_template(question))[0]['generated_text'].split(\"<</SYS>>\\n    \"+question+\"[/INST]\\n\")[1]\n",
    "        answers.append(answer)\n",
    "        print(\"question \", num,\" : \",question,\"\\n answer : \",answer)\n",
    "        num = num+1\n",
    "    #pandas dataframe에 Llama2 답변 추가\n",
    "    df['Llama2-7b-gptq answer'] = answers\n",
    "    \n",
    "    #dataframe 엑셀 변환\n",
    "    df.to_excel(fname, index = False)"
   ]
  }
 ],
 "metadata": {
  "kernelspec": {
   "display_name": "Python 3 (ipykernel)",
   "language": "python",
   "name": "python3"
  },
  "language_info": {
   "codemirror_mode": {
    "name": "ipython",
    "version": 3
   },
   "file_extension": ".py",
   "mimetype": "text/x-python",
   "name": "python",
   "nbconvert_exporter": "python",
   "pygments_lexer": "ipython3",
   "version": "3.11.7"
  }
 },
 "nbformat": 4,
 "nbformat_minor": 5
}
